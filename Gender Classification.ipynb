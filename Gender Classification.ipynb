{
 "cells": [
  {
   "cell_type": "code",
   "execution_count": 8,
   "metadata": {},
   "outputs": [
    {
     "name": "stdout",
     "output_type": "stream",
     "text": [
      "Accuracy for DecisionTree: 100.0\n",
      "Accuracy for Naive_Bayes: 81.81818181818183\n",
      "\n",
      "The best classifier is : Decision Tree\n"
     ]
    }
   ],
   "source": [
    "from sklearn import tree\n",
    "from sklearn.naive_bayes import GaussianNB\n",
    "from sklearn.metrics import accuracy_score\n",
    "import numpy as np\n",
    "\n",
    "# [height, weight, shoe_size]\n",
    "X = [[181, 80, 44], [177, 70, 43], [160, 60, 38], [154, 54, 37], [166, 65, 40],\n",
    "     [190, 90, 47], [175, 64, 39],\n",
    "     [177, 70, 40], [159, 55, 37], [171, 75, 42], [181, 85, 43]]\n",
    "\n",
    "Y = ['male', 'male', 'female', 'female', 'male', 'male', 'female', 'female',\n",
    "     'female', 'male', 'male']\n",
    "\n",
    "#Classifiers\n",
    "clf_tree=tree.DecisionTreeClassifier()\n",
    "clf_NB=GaussianNB()\n",
    "\n",
    "#Training the models\n",
    "clf_tree.fit(X,Y)\n",
    "clf_NB.fit(X,Y)\n",
    "\n",
    "pred_tree=clf_tree.predict(X)\n",
    "acc_tree=accuracy_score(Y, pred_tree)*100\n",
    "print(\"Accuracy for DecisionTree: {}\".format(acc_tree))\n",
    "\n",
    "pred_NB=clf_NB.predict(X)\n",
    "acc_NB=accuracy_score(Y, pred_NB)*100\n",
    "print(\"Accuracy for Naive_Bayes: {}\".format(acc_NB))\n",
    "\n",
    "\n",
    "#Best classifier out of all\n",
    "index=np.argmax([acc_tree,acc_NB])\n",
    "classifier={0: 'Decision Tree', 1: 'Guassian Naive Bayes'}\n",
    "print('\\nThe best classifier is : {}'.format(classifier[index]))"
   ]
  }
 ],
 "metadata": {
  "kernelspec": {
   "display_name": "Python 3",
   "language": "python",
   "name": "python3"
  },
  "language_info": {
   "codemirror_mode": {
    "name": "ipython",
    "version": 3
   },
   "file_extension": ".py",
   "mimetype": "text/x-python",
   "name": "python",
   "nbconvert_exporter": "python",
   "pygments_lexer": "ipython3",
   "version": "3.6.2"
  }
 },
 "nbformat": 4,
 "nbformat_minor": 2
}
